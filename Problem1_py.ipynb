{
  "cells": [
    {
      "cell_type": "markdown",
      "metadata": {
        "id": "view-in-github",
        "colab_type": "text"
      },
      "source": [
        "<a href=\"https://colab.research.google.com/github/KeylaEnriquez/ProgBas/blob/main/Problem1_py.ipynb\" target=\"_parent\"><img src=\"https://colab.research.google.com/assets/colab-badge.svg\" alt=\"Open In Colab\"/></a>"
      ]
    },
    {
      "cell_type": "code",
      "source": [
        "a=int(input('Ingres un número entero: '))\n",
        "b=int(input('Ingresa otro número entero: '))\n",
        "suma=a+b\n",
        "print(suma)\n",
        "resta=a-b\n",
        "print(resta)\n",
        "multiplicacion=a*b\n",
        "print(multiplicacion)\n",
        "division=a/b\n",
        "print(division)\n",
        "div_de_piso=a//b\n",
        "print(div_de_piso)\n",
        "residuo=a%b\n",
        "print(residuo)"
      ],
      "metadata": {
        "id": "dx1s5QfJib3q",
        "colab": {
          "base_uri": "https://localhost:8080/"
        },
        "outputId": "6efea846-0508-4b32-eb84-2a9b3b94a058"
      },
      "execution_count": null,
      "outputs": [
        {
          "output_type": "stream",
          "name": "stdout",
          "text": [
            "Ingres un número entero: 5\n",
            "Ingresa otro número entero: 3\n",
            "8\n",
            "2\n",
            "15\n",
            "1.6666666666666667\n",
            "1\n",
            "2\n"
          ]
        }
      ]
    }
  ],
  "metadata": {
    "kernelspec": {
      "display_name": "Python 3",
      "language": "python",
      "name": "python3"
    },
    "language_info": {
      "codemirror_mode": {
        "name": "ipython",
        "version": 3
      },
      "file_extension": ".py",
      "mimetype": "text/x-python",
      "name": "python",
      "nbconvert_exporter": "python",
      "pygments_lexer": "ipython3",
      "version": "3.7.1"
    },
    "colab": {
      "provenance": [],
      "name": "Problem1.py",
      "include_colab_link": true
    }
  },
  "nbformat": 4,
  "nbformat_minor": 0
}